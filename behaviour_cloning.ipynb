{
 "cells": [
  {
   "cell_type": "code",
   "execution_count": 2,
   "id": "18fe798c",
   "metadata": {},
   "outputs": [
    {
     "name": "stderr",
     "output_type": "stream",
     "text": [
      "c:\\Users\\nguye\\anaconda3\\envs\\dip_env\\lib\\site-packages\\keras\\src\\layers\\convolutional\\base_conv.py:107: UserWarning: Do not pass an `input_shape`/`input_dim` argument to a layer. When using Sequential models, prefer using an `Input(shape)` object as the first layer in the model instead.\n",
      "  super().__init__(activity_regularizer=activity_regularizer, **kwargs)\n",
      "c:\\Users\\nguye\\anaconda3\\envs\\dip_env\\lib\\site-packages\\keras\\src\\trainers\\data_adapters\\py_dataset_adapter.py:121: UserWarning: Your `PyDataset` class should call `super().__init__(**kwargs)` in its constructor. `**kwargs` can include `workers`, `use_multiprocessing`, `max_queue_size`. Do not pass these arguments to `fit()`, as they will be ignored.\n",
      "  self._warn_if_super_not_called()\n"
     ]
    },
    {
     "name": "stdout",
     "output_type": "stream",
     "text": [
      "Epoch 1/15\n",
      "\u001b[1m17/17\u001b[0m \u001b[32m━━━━━━━━━━━━━━━━━━━━\u001b[0m\u001b[37m\u001b[0m \u001b[1m3s\u001b[0m 81ms/step - accuracy: 0.4982 - loss: 1.0566 - val_accuracy: 0.6154 - val_loss: 2.6183\n",
      "Epoch 2/15\n",
      "\u001b[1m17/17\u001b[0m \u001b[32m━━━━━━━━━━━━━━━━━━━━\u001b[0m\u001b[37m\u001b[0m \u001b[1m1s\u001b[0m 66ms/step - accuracy: 0.5967 - loss: 0.9628 - val_accuracy: 0.6154 - val_loss: 2.4383\n",
      "Epoch 3/15\n",
      "\u001b[1m17/17\u001b[0m \u001b[32m━━━━━━━━━━━━━━━━━━━━\u001b[0m\u001b[37m\u001b[0m \u001b[1m1s\u001b[0m 65ms/step - accuracy: 0.5943 - loss: 0.9738 - val_accuracy: 0.6154 - val_loss: 1.1681\n",
      "Epoch 4/15\n",
      "\u001b[1m17/17\u001b[0m \u001b[32m━━━━━━━━━━━━━━━━━━━━\u001b[0m\u001b[37m\u001b[0m \u001b[1m1s\u001b[0m 65ms/step - accuracy: 0.5826 - loss: 0.9790 - val_accuracy: 0.6154 - val_loss: 0.9509\n",
      "Epoch 5/15\n",
      "\u001b[1m17/17\u001b[0m \u001b[32m━━━━━━━━━━━━━━━━━━━━\u001b[0m\u001b[37m\u001b[0m \u001b[1m1s\u001b[0m 65ms/step - accuracy: 0.5999 - loss: 0.9620 - val_accuracy: 0.6154 - val_loss: 0.9257\n",
      "Epoch 6/15\n",
      "\u001b[1m17/17\u001b[0m \u001b[32m━━━━━━━━━━━━━━━━━━━━\u001b[0m\u001b[37m\u001b[0m \u001b[1m1s\u001b[0m 65ms/step - accuracy: 0.5762 - loss: 0.9695 - val_accuracy: 0.6154 - val_loss: 0.9397\n",
      "Epoch 7/15\n",
      "\u001b[1m17/17\u001b[0m \u001b[32m━━━━━━━━━━━━━━━━━━━━\u001b[0m\u001b[37m\u001b[0m \u001b[1m1s\u001b[0m 65ms/step - accuracy: 0.5977 - loss: 0.9721 - val_accuracy: 0.6154 - val_loss: 1.0294\n",
      "Epoch 8/15\n",
      "\u001b[1m17/17\u001b[0m \u001b[32m━━━━━━━━━━━━━━━━━━━━\u001b[0m\u001b[37m\u001b[0m \u001b[1m1s\u001b[0m 66ms/step - accuracy: 0.6212 - loss: 0.9465 - val_accuracy: 0.6154 - val_loss: 1.0626\n",
      "Epoch 9/15\n",
      "\u001b[1m17/17\u001b[0m \u001b[32m━━━━━━━━━━━━━━━━━━━━\u001b[0m\u001b[37m\u001b[0m \u001b[1m1s\u001b[0m 66ms/step - accuracy: 0.5996 - loss: 0.9835 - val_accuracy: 0.6154 - val_loss: 1.0581\n",
      "Epoch 10/15\n",
      "\u001b[1m17/17\u001b[0m \u001b[32m━━━━━━━━━━━━━━━━━━━━\u001b[0m\u001b[37m\u001b[0m \u001b[1m1s\u001b[0m 65ms/step - accuracy: 0.6049 - loss: 0.9574 - val_accuracy: 0.6154 - val_loss: 1.0578\n",
      "INFO:tensorflow:Assets written to: C:\\Users\\nguye\\AppData\\Local\\Temp\\tmpey7lqon0\\assets\n"
     ]
    },
    {
     "name": "stderr",
     "output_type": "stream",
     "text": [
      "INFO:tensorflow:Assets written to: C:\\Users\\nguye\\AppData\\Local\\Temp\\tmpey7lqon0\\assets\n"
     ]
    },
    {
     "name": "stdout",
     "output_type": "stream",
     "text": [
      "Saved artifact at 'C:\\Users\\nguye\\AppData\\Local\\Temp\\tmpey7lqon0'. The following endpoints are available:\n",
      "\n",
      "* Endpoint 'serve'\n",
      "  args_0 (POSITIONAL_ONLY): TensorSpec(shape=(None, 64, 64, 3), dtype=tf.float32, name='keras_tensor')\n",
      "Output Type:\n",
      "  TensorSpec(shape=(None, 3), dtype=tf.float32, name=None)\n",
      "Captures:\n",
      "  2025535539152: TensorSpec(shape=(), dtype=tf.resource, name=None)\n",
      "  2025661569984: TensorSpec(shape=(), dtype=tf.resource, name=None)\n",
      "  2025661572976: TensorSpec(shape=(), dtype=tf.resource, name=None)\n",
      "  2025661571744: TensorSpec(shape=(), dtype=tf.resource, name=None)\n",
      "  2025661566288: TensorSpec(shape=(), dtype=tf.resource, name=None)\n",
      "  2025661575616: TensorSpec(shape=(), dtype=tf.resource, name=None)\n",
      "  2025661564176: TensorSpec(shape=(), dtype=tf.resource, name=None)\n",
      "  2025661565408: TensorSpec(shape=(), dtype=tf.resource, name=None)\n"
     ]
    }
   ],
   "source": [
    "import tensorflow as tf\n",
    "from tensorflow.keras import layers, models\n",
    "from tensorflow.keras.preprocessing.image import ImageDataGenerator\n",
    "import numpy as np\n",
    "import os\n",
    "import cv2\n",
    "from sklearn.model_selection import train_test_split\n",
    "\n",
    "# Tải dữ liệu\n",
    "def load_data(data_dir):\n",
    "    images, labels = [], []\n",
    "    for filename in os.listdir(data_dir):\n",
    "        if filename.endswith(\".jpg\"):\n",
    "            label = filename.split(\"_\")[0]\n",
    "            if label in [\"right\", \"forward\", \"left\"]:\n",
    "                img = cv2.imread(os.path.join(data_dir, filename))\n",
    "                img = cv2.resize(img, (64, 64))\n",
    "                images.append(img)\n",
    "                labels.append([\"right\", \"forward\", \"left\"].index(label))\n",
    "    return np.array(images) / 255.0, np.array(labels)\n",
    "\n",
    "data_dir = \"dataset\"\n",
    "images, labels = load_data(data_dir)\n",
    "train_images, val_images, train_labels, val_labels = train_test_split(images, labels, test_size=0.2)\n",
    "\n",
    "# Data augmentation\n",
    "train_datagen = ImageDataGenerator(\n",
    "    rotation_range=30, width_shift_range=0.3, height_shift_range=0.3,\n",
    "    zoom_range=0.3, brightness_range=[0.7, 1.3], horizontal_flip=True\n",
    ")\n",
    "train_generator = train_datagen.flow(train_images, train_labels, batch_size=32)\n",
    "\n",
    "# Mô hình\n",
    "model = models.Sequential([\n",
    "    layers.Conv2D(16, (3, 3), activation=\"relu\", input_shape=(64, 64, 3)),\n",
    "    layers.MaxPooling2D((2, 2)),\n",
    "    layers.Conv2D(32, (3, 3), activation=\"relu\"),\n",
    "    layers.MaxPooling2D((2, 2)),\n",
    "    layers.Flatten(),\n",
    "    layers.Dense(64, activation=\"relu\"),\n",
    "    layers.Dropout(0.5),\n",
    "    layers.Dense(3, activation=\"softmax\")\n",
    "])\n",
    "\n",
    "model.compile(optimizer=\"adam\", loss=\"sparse_categorical_crossentropy\", metrics=[\"accuracy\"])\n",
    "early_stopping = tf.keras.callbacks.EarlyStopping(patience=5, restore_best_weights=True)\n",
    "model.fit(train_generator, epochs=15, validation_data=(val_images, val_labels), callbacks=[early_stopping])\n",
    "\n",
    "# Lưu mô hình .tflite\n",
    "converter = tf.lite.TFLiteConverter.from_keras_model(model)\n",
    "tflite_model = converter.convert()\n",
    "with open(\"bc_model.tflite\", \"wb\") as f:\n",
    "    f.write(tflite_model)"
   ]
  },
  {
   "cell_type": "code",
   "execution_count": null,
   "id": "4a12f805",
   "metadata": {},
   "outputs": [],
   "source": []
  }
 ],
 "metadata": {
  "kernelspec": {
   "display_name": "dip_env",
   "language": "python",
   "name": "python3"
  },
  "language_info": {
   "codemirror_mode": {
    "name": "ipython",
    "version": 3
   },
   "file_extension": ".py",
   "mimetype": "text/x-python",
   "name": "python",
   "nbconvert_exporter": "python",
   "pygments_lexer": "ipython3",
   "version": "3.10.16"
  }
 },
 "nbformat": 4,
 "nbformat_minor": 5
}
